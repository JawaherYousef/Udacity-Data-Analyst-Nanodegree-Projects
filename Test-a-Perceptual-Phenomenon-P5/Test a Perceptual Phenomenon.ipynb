{
 "cells": [
  {
   "cell_type": "markdown",
   "metadata": {},
   "source": [
    "# Analyzing the Stroop Effect\n",
    "\n"
   ]
  },
  {
   "cell_type": "markdown",
   "metadata": {},
   "source": [
    "## Table of Contents\n",
    "- [Importing the dataset](#importing)\n",
    "- [Dataset Overview](#overview)\n",
    "- [Questions](#question)\n",
    "- [References](#ref)"
   ]
  },
  {
   "cell_type": "markdown",
   "metadata": {},
   "source": [
    "<a id='importing data)'></a>\n",
    "First step is importing the data we have, that called (stroopdata.csv) in format of csv:"
   ]
  },
  {
   "cell_type": "code",
   "execution_count": 5,
   "metadata": {},
   "outputs": [],
   "source": [
    "%matplotlib inline\n",
    "import pandas as pd\n",
    "import matplotlib.pyplot as plt\n",
    "import plotly.plotly as py\n",
    "import seaborn as sns\n",
    "import scipy.stats as stats\n",
    "import seaborn as sns"
   ]
  },
  {
   "cell_type": "code",
   "execution_count": 6,
   "metadata": {},
   "outputs": [],
   "source": [
    "#loading the csv files\n",
    "stroop_data = pd.read_csv('stroopdata.csv')"
   ]
  },
  {
   "cell_type": "markdown",
   "metadata": {},
   "source": [
    "Let's get to know our data and what variables we have, read in the dataset and take a look at the top few rows here:"
   ]
  },
  {
   "cell_type": "code",
   "execution_count": 7,
   "metadata": {},
   "outputs": [
    {
     "data": {
      "text/html": [
       "<div>\n",
       "<style scoped>\n",
       "    .dataframe tbody tr th:only-of-type {\n",
       "        vertical-align: middle;\n",
       "    }\n",
       "\n",
       "    .dataframe tbody tr th {\n",
       "        vertical-align: top;\n",
       "    }\n",
       "\n",
       "    .dataframe thead th {\n",
       "        text-align: right;\n",
       "    }\n",
       "</style>\n",
       "<table border=\"1\" class=\"dataframe\">\n",
       "  <thead>\n",
       "    <tr style=\"text-align: right;\">\n",
       "      <th></th>\n",
       "      <th>Congruent</th>\n",
       "      <th>Incongruent</th>\n",
       "    </tr>\n",
       "  </thead>\n",
       "  <tbody>\n",
       "    <tr>\n",
       "      <th>0</th>\n",
       "      <td>12.079</td>\n",
       "      <td>19.278</td>\n",
       "    </tr>\n",
       "    <tr>\n",
       "      <th>1</th>\n",
       "      <td>16.791</td>\n",
       "      <td>18.741</td>\n",
       "    </tr>\n",
       "    <tr>\n",
       "      <th>2</th>\n",
       "      <td>9.564</td>\n",
       "      <td>21.214</td>\n",
       "    </tr>\n",
       "    <tr>\n",
       "      <th>3</th>\n",
       "      <td>8.630</td>\n",
       "      <td>15.687</td>\n",
       "    </tr>\n",
       "    <tr>\n",
       "      <th>4</th>\n",
       "      <td>14.669</td>\n",
       "      <td>22.803</td>\n",
       "    </tr>\n",
       "    <tr>\n",
       "      <th>5</th>\n",
       "      <td>12.238</td>\n",
       "      <td>20.878</td>\n",
       "    </tr>\n",
       "  </tbody>\n",
       "</table>\n",
       "</div>"
      ],
      "text/plain": [
       "   Congruent  Incongruent\n",
       "0     12.079       19.278\n",
       "1     16.791       18.741\n",
       "2      9.564       21.214\n",
       "3      8.630       15.687\n",
       "4     14.669       22.803\n",
       "5     12.238       20.878"
      ]
     },
     "execution_count": 7,
     "metadata": {},
     "output_type": "execute_result"
    }
   ],
   "source": [
    "stroop_data.head(6)"
   ]
  },
  {
   "cell_type": "markdown",
   "metadata": {},
   "source": [
    "<a id='overview'></a>\n",
    "### Dataset Overview "
   ]
  },
  {
   "cell_type": "markdown",
   "metadata": {},
   "source": [
    "The dataset contain a time that recorded from each participants, the idea behined this is each participants presented with a list of words, and the word displayed in a color of ink. The participant’s should say in loud the color of the ink in which the word is printed. The task has two conditions: a **congruent** words condition, and an **incongruent** words condition. In the congruent words condition, the words being displayed are match with the color (for example: Blue wrotten in blue ink). In the incongruent words condition, the words displayed are don't match with color (for example: Red wrotten in Balck ink). In each case, we measure the time it takes to name the ink colors in lists. At the end of competition the participants will pass to record a time from each condition, and this is our dataset"
   ]
  },
  {
   "cell_type": "code",
   "execution_count": 8,
   "metadata": {},
   "outputs": [
    {
     "name": "stdout",
     "output_type": "stream",
     "text": [
      "There are now 24 rows and 2 columns in it.\n"
     ]
    }
   ],
   "source": [
    "# Number of rows and columns in our dataset\n",
    "stroop_data.drop_duplicates(keep ='first', inplace=True)\n",
    "rows, col = stroop_data.shape\n",
    "print('There are now {} rows and {} columns in it.'.format(rows, col))"
   ]
  },
  {
   "cell_type": "markdown",
   "metadata": {},
   "source": [
    "> As showen, we have 24 rows and 2 columns in our dataset. "
   ]
  },
  {
   "cell_type": "markdown",
   "metadata": {},
   "source": [
    "<a id='question'></a>\n",
    "### Questions"
   ]
  },
  {
   "cell_type": "markdown",
   "metadata": {},
   "source": [
    "(1) What is the independent variable? What is the dependent variable?"
   ]
  },
  {
   "cell_type": "markdown",
   "metadata": {},
   "source": [
    "- **Independent variable :** congruent and incogruent (the congruency of the colour and text).\n",
    "- **Dependent variable :** The response time (duration (time) to recognise the colours or the texts)."
   ]
  },
  {
   "cell_type": "markdown",
   "metadata": {},
   "source": [
    "(2) What is an appropriate set of hypotheses for this task? Specify your null and alternative hypotheses, and clearly define any notation used. Justify your choices."
   ]
  },
  {
   "cell_type": "markdown",
   "metadata": {},
   "source": [
    "We will evaluate the effect on the performance of the participants to see either the difference in our results is because the congruent and incongruent test are significantly different.\n",
    "\n",
    "- μC : The mean of **Congruent** population's response time.\n",
    "- μI : The mean of **Incongruent** population's response time. \n",
    "\n",
    "\n",
    "#### Hypotheses:\n",
    "\n",
    "- **H0:** The null hypothesis, that the congruent and incongruent populations are not significantly different(H0: μI = μC).\n",
    "- **HA :** The alternative hypothesis, that the congruent and incongruent populations are significantly different(HA: μI != μC).\n",
    "\n",
    "\n",
    "#### In our dataset:\n",
    "- The sample size is 24 (As showen above).\n",
    "- We measure the same participant but in two time point.\n",
    "\n",
    "\n",
    "#### Assumption:\n",
    "\n",
    "Incongruent means that there is an effect on participant ability to read the word even if the color is not match with word, while the Congruent means the participant can read the word fastly because it's match with the color.\n",
    "So, we can define this is terms of the null hypothesis: H0: μC ≥ μI HA: μC < μI\n",
    "\n",
    "In words: Will te incongruent situation affect the mean time of person reading the text or not. If we accept the null hypothesis, we can say that not matching the words with color will have no effect on the time taken to read the whole set of words. Rejecting this hypothesis means that the mean time taken to read the congruent situation is lower than the mean time taken to read the incongruent situation.\n",
    "\n",
    "Given our data, we have two tests, performed on the same subject, hence is a dependant situation. We want to check if μC < μI so we just need a one tailed test. Additionally we only have a sample of an unknown population. The best statistic test to tackle this situation will be the dependent samples t-test.\n",
    "\n",
    "We will seek to prove that is statiscally significant the difference between the Incongruent mean time and the Congruent mean time, so we can prove that people will always take less time to read the congruent conditon.\n",
    "\n",
    "\n",
    "##### So, we will conduct a Dependent t-test for Paired Samples*.\n",
    "\n",
    "- **A dependent t-test** is an example of a \"within-subjects\" or \"repeated-measures\" statistical test. This indicates that the same participants are tested more than once. Thus, in the dependent t-test, \"related groups\" indicates that the same participants are present in both groups. The reason that it is possible to have the same participants in each group is because each participant has been measured on two occasions on the same dependent variable.\n"
   ]
  },
  {
   "cell_type": "markdown",
   "metadata": {},
   "source": [
    "(3) Report some descriptive statistics regarding this dataset. Include at least one measure of central tendency and at least one measure of variability. The name of the data file is 'stroopdata.csv'."
   ]
  },
  {
   "cell_type": "markdown",
   "metadata": {},
   "source": [
    "> **We will find for each congruent an incongruent:**\n",
    "- 1- Mean.\n",
    "- 2- Standard deviation."
   ]
  },
  {
   "cell_type": "code",
   "execution_count": 9,
   "metadata": {},
   "outputs": [
    {
     "data": {
      "text/html": [
       "<div>\n",
       "<style scoped>\n",
       "    .dataframe tbody tr th:only-of-type {\n",
       "        vertical-align: middle;\n",
       "    }\n",
       "\n",
       "    .dataframe tbody tr th {\n",
       "        vertical-align: top;\n",
       "    }\n",
       "\n",
       "    .dataframe thead th {\n",
       "        text-align: right;\n",
       "    }\n",
       "</style>\n",
       "<table border=\"1\" class=\"dataframe\">\n",
       "  <thead>\n",
       "    <tr style=\"text-align: right;\">\n",
       "      <th></th>\n",
       "      <th>Congruent</th>\n",
       "      <th>Incongruent</th>\n",
       "    </tr>\n",
       "  </thead>\n",
       "  <tbody>\n",
       "    <tr>\n",
       "      <th>count</th>\n",
       "      <td>24.000000</td>\n",
       "      <td>24.000000</td>\n",
       "    </tr>\n",
       "    <tr>\n",
       "      <th>mean</th>\n",
       "      <td>14.051125</td>\n",
       "      <td>22.015917</td>\n",
       "    </tr>\n",
       "    <tr>\n",
       "      <th>std</th>\n",
       "      <td>3.559358</td>\n",
       "      <td>4.797057</td>\n",
       "    </tr>\n",
       "    <tr>\n",
       "      <th>min</th>\n",
       "      <td>8.630000</td>\n",
       "      <td>15.687000</td>\n",
       "    </tr>\n",
       "    <tr>\n",
       "      <th>25%</th>\n",
       "      <td>11.895250</td>\n",
       "      <td>18.716750</td>\n",
       "    </tr>\n",
       "    <tr>\n",
       "      <th>50%</th>\n",
       "      <td>14.356500</td>\n",
       "      <td>21.017500</td>\n",
       "    </tr>\n",
       "    <tr>\n",
       "      <th>75%</th>\n",
       "      <td>16.200750</td>\n",
       "      <td>24.051500</td>\n",
       "    </tr>\n",
       "    <tr>\n",
       "      <th>max</th>\n",
       "      <td>22.328000</td>\n",
       "      <td>35.255000</td>\n",
       "    </tr>\n",
       "  </tbody>\n",
       "</table>\n",
       "</div>"
      ],
      "text/plain": [
       "       Congruent  Incongruent\n",
       "count  24.000000    24.000000\n",
       "mean   14.051125    22.015917\n",
       "std     3.559358     4.797057\n",
       "min     8.630000    15.687000\n",
       "25%    11.895250    18.716750\n",
       "50%    14.356500    21.017500\n",
       "75%    16.200750    24.051500\n",
       "max    22.328000    35.255000"
      ]
     },
     "execution_count": 9,
     "metadata": {},
     "output_type": "execute_result"
    }
   ],
   "source": [
    "# description of the dataset to find the mean and standard deviation\n",
    "stroop_data.describe()"
   ]
  },
  {
   "cell_type": "markdown",
   "metadata": {},
   "source": [
    "- The congruent sample has a mean of  **x̄C = 14.051** seconds and the incongruent sample has a mean of  **x̄I = 22.016**\n",
    "- The congruent sample has a standard deviation of **σC = 3.559** seconds and the incongruent sample has a standard deviation of **σI = 4.797** seconds."
   ]
  },
  {
   "cell_type": "markdown",
   "metadata": {},
   "source": [
    "(4) Provide one or two visualizations that show the distribution of the sample data. Write one or two sentences noting what you observe about the plot or plots."
   ]
  },
  {
   "cell_type": "code",
   "execution_count": 10,
   "metadata": {},
   "outputs": [
    {
     "data": {
      "text/plain": [
       "Text(0.5, 1.0, 'Congruent VS. Incongruent time respond')"
      ]
     },
     "execution_count": 10,
     "metadata": {},
     "output_type": "execute_result"
    },
    {
     "data": {
      "image/png": "[encoded data removed]",
      "text/plain": [
       "<Figure size 432x288 with 1 Axes>"
      ]
     },
     "metadata": {
      "needs_background": "light"
     },
     "output_type": "display_data"
    }
   ],
   "source": [
    "# Build the visualizations here\n",
    "stroop_data.plot(kind='bar')\n",
    "plt.xlabel('Participents')              \n",
    "plt.ylabel('Time')\n",
    "plt.title('Congruent VS. Incongruent time respond')"
   ]
  },
  {
   "cell_type": "markdown",
   "metadata": {},
   "source": [
    "> As showen in figure avbove, the incongruent take long time than the congruent for all participants."
   ]
  },
  {
   "cell_type": "code",
   "execution_count": 11,
   "metadata": {},
   "outputs": [
    {
     "data": {
      "text/plain": [
       "Text(0.5, 1.0, 'Median of Congruent and Incongruent')"
      ]
     },
     "execution_count": 11,
     "metadata": {},
     "output_type": "execute_result"
    },
    {
     "data": {
      "image/png": "[encoded data removed]",
      "text/plain": [
       "<Figure size 432x288 with 1 Axes>"
      ]
     },
     "metadata": {
      "needs_background": "light"
     },
     "output_type": "display_data"
    }
   ],
   "source": [
    "color = dict(boxes='Gray', whiskers='Gray', medians='Red', caps='Gray')\n",
    "stroop_data.plot.box(color = color, sym = 'r+')\n",
    "plt.xlabel('Type of test')\n",
    "plt.ylabel('Time')\n",
    "plt.title('Median of Congruent and Incongruent')"
   ]
  },
  {
   "cell_type": "markdown",
   "metadata": {},
   "source": [
    "> Here we can see that the median of incongruent is higher than the median of congruent."
   ]
  },
  {
   "cell_type": "markdown",
   "metadata": {},
   "source": [
    "(5)  Now, perform the statistical test and report your results. What is your confidence level or Type I error associated with your test? What is your conclusion regarding the hypotheses you set up? Did the results match up with your expectations? **Hint:**  Think about what is being measured on each individual, and what statistic best captures how an individual reacts in each environment."
   ]
  },
  {
   "cell_type": "code",
   "execution_count": 12,
   "metadata": {},
   "outputs": [
    {
     "name": "stdout",
     "output_type": "stream",
     "text": [
      "Degrees of Freedom : df = 23\n"
     ]
    }
   ],
   "source": [
    "# find degree of freedome (df = n-1)\n",
    "df = 23\n",
    "print(\"Degrees of Freedom : df =\", df)"
   ]
  },
  {
   "cell_type": "code",
   "execution_count": 13,
   "metadata": {},
   "outputs": [],
   "source": [
    "# Calculte the mean of each test\n",
    "mean_congurent = stroop_data['Congruent'].mean()\n",
    "mean_incongurant = stroop_data['Incongruent'].mean()\n",
    "\n",
    "# Calculte a point estimate using mean_congurent - mean_incongurant (Average of differences)\n",
    "estimate_point = mean_congurent - mean_incongurant\n",
    "\n",
    "# Calculate Square of Sums of difference of sample means\n",
    "ssd = sum( ( (stroop_data['Congruent'] - stroop_data['Incongruent']) - estimate_point ) ** 2  )\n",
    "\n",
    "# Calculate the variance of difference\n",
    "vd = ssd / (24 -1)\n",
    "\n",
    "# Calculate Standard Deviation of Differences\n",
    "sdd = vd ** (1/2)\n",
    "\n",
    "#  calculate the t-statistic for the difference\n",
    "tstatistic = estimate_point / ( sdd / ( 24 ** (1/2) ) )\n",
    "\n",
    "# Calculte the p-value\n",
    "pvalue = stats.t.cdf(x = tstatistic, df = 23 ) * 2 \n",
    "\n",
    "# Clacute t-critical for alpha level 0.005 (aiming to 99% confidence level)\n",
    "alpha = 0.005\n",
    "tcritical = stats.t.ppf(q=alpha, df=23)"
   ]
  },
  {
   "cell_type": "code",
   "execution_count": 14,
   "metadata": {},
   "outputs": [
    {
     "name": "stdout",
     "output_type": "stream",
     "text": [
      "Alpha- level : a = 0.005\n",
      "t-critical values :  tc  = 2.8073356837675236 -2.8073356837675236\n",
      "t-Statistic(df) : t(23) = -8.020706944109955\n",
      "p-value : p = 4.103000585711186e-08\n"
     ]
    }
   ],
   "source": [
    "print(\"Alpha- level : a =\", alpha)\n",
    "print(\"t-critical values :  tc  =\", -tcritical, tcritical)\n",
    "print(\"t-Statistic(df) : t(23) =\", tstatistic)\n",
    "print(\"p-value : p =\", pvalue)"
   ]
  },
  {
   "cell_type": "markdown",
   "metadata": {},
   "source": [
    "> The t-statistic is greater than the critical t-value, the test concludes that there is a statistically significant difference between the two populations. that's mean we reject the null hypothesis that there is no statistically significant difference between the two populations.\n",
    "\n",
    "\n",
    "> The results match up with our observations and expectations that there is indeed a statistically significant difference in the response time to perform the incongruent test compared to the congruent test."
   ]
  },
  {
   "cell_type": "markdown",
   "metadata": {},
   "source": [
    "<a id='ref'></a>\n",
    "### References"
   ]
  },
  {
   "cell_type": "markdown",
   "metadata": {},
   "source": [
    "- https://study.com/academy/lesson/degrees-of-freedom-definition-formula-example.html\n",
    "- https://statistics.laerd.com/statistical-guides/dependent-t-test-statistical-guide.php"
   ]
  }
 ],
 "metadata": {
  "kernelspec": {
   "display_name": "Python 3",
   "language": "python",
   "name": "python3"
  },
  "language_info": {
   "codemirror_mode": {
    "name": "ipython",
    "version": 3
   },
   "file_extension": ".py",
   "mimetype": "text/x-python",
   "name": "python",
   "nbconvert_exporter": "python",
   "pygments_lexer": "ipython3",
   "version": "3.6.6"
  }
 },
 "nbformat": 4,
 "nbformat_minor": 2
}
